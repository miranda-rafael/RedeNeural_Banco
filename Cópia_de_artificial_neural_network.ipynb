{
  "nbformat": 4,
  "nbformat_minor": 0,
  "metadata": {
    "colab": {
      "name": "Cópia de artificial_neural_network.ipynb",
      "provenance": [],
      "collapsed_sections": [],
      "toc_visible": true
    },
    "kernelspec": {
      "name": "python3",
      "display_name": "Python 3"
    }
  },
  "cells": [
    {
      "cell_type": "markdown",
      "metadata": {
        "id": "lP6JLo1tGNBg"
      },
      "source": [
        "# Rede Neural Artificial"
      ]
    },
    {
      "cell_type": "markdown",
      "metadata": {
        "id": "gWZyYmS_UE_L"
      },
      "source": [
        "### Importando as bibliotecas"
      ]
    },
    {
      "cell_type": "code",
      "metadata": {
        "id": "HWIjjhp7sT2P"
      },
      "source": [
        "import numpy as np\n",
        "import pandas as pd\n",
        "import tensorflow as tf"
      ],
      "execution_count": null,
      "outputs": []
    },
    {
      "cell_type": "code",
      "metadata": {
        "colab": {
          "base_uri": "https://localhost:8080/",
          "height": 35
        },
        "id": "2wzfD_N4tK7y",
        "outputId": "59e7e13f-69a1-4530-aeed-2be7aeb5bbb4"
      },
      "source": [
        "tf.__version__"
      ],
      "execution_count": null,
      "outputs": [
        {
          "output_type": "execute_result",
          "data": {
            "application/vnd.google.colaboratory.intrinsic+json": {
              "type": "string"
            },
            "text/plain": [
              "'2.3.0'"
            ]
          },
          "metadata": {
            "tags": []
          },
          "execution_count": 40
        }
      ]
    },
    {
      "cell_type": "markdown",
      "metadata": {
        "id": "1E0Q3aoKUCRX"
      },
      "source": [
        "## Parte 1 - preprocessamento dos dados"
      ]
    },
    {
      "cell_type": "markdown",
      "metadata": {
        "id": "cKWAkFVGUU0Z"
      },
      "source": [
        "### Importando o dataset"
      ]
    },
    {
      "cell_type": "code",
      "metadata": {
        "id": "AZp8huUwtqPZ"
      },
      "source": [
        "dataset = pd.read_csv('Churn_Modelling.csv')\n",
        "X = dataset.iloc[:, 3:-1].values\n",
        "y = dataset.iloc[:, -1].values"
      ],
      "execution_count": null,
      "outputs": []
    },
    {
      "cell_type": "code",
      "metadata": {
        "colab": {
          "base_uri": "https://localhost:8080/"
        },
        "id": "8yVJSqSlt6ep",
        "outputId": "bdb8b3f8-79cc-4206-e781-d20b66ada43f"
      },
      "source": [
        "print(X)"
      ],
      "execution_count": null,
      "outputs": [
        {
          "output_type": "stream",
          "text": [
            "[[619 'France' 'Female' ... 1 1 101348.88]\n",
            " [608 'Spain' 'Female' ... 0 1 112542.58]\n",
            " [502 'France' 'Female' ... 1 0 113931.57]\n",
            " ...\n",
            " [709 'France' 'Female' ... 0 1 42085.58]\n",
            " [772 'Germany' 'Male' ... 1 0 92888.52]\n",
            " [792 'France' 'Female' ... 1 0 38190.78]]\n"
          ],
          "name": "stdout"
        }
      ]
    },
    {
      "cell_type": "code",
      "metadata": {
        "colab": {
          "base_uri": "https://localhost:8080/"
        },
        "id": "6rtTam06vIVL",
        "outputId": "7463625f-fe98-4a99-cb67-57d104f348fd"
      },
      "source": [
        "print(y)"
      ],
      "execution_count": null,
      "outputs": [
        {
          "output_type": "stream",
          "text": [
            "[1 0 1 ... 1 1 0]\n"
          ],
          "name": "stdout"
        }
      ]
    },
    {
      "cell_type": "markdown",
      "metadata": {
        "id": "N6bQ0UgSU-NJ"
      },
      "source": [
        "### Codificando dados categóricos"
      ]
    },
    {
      "cell_type": "markdown",
      "metadata": {
        "id": "le5MJreAbW52"
      },
      "source": [
        "Coluna 'gender'"
      ]
    },
    {
      "cell_type": "code",
      "metadata": {
        "id": "Av5sEoWNvaqp"
      },
      "source": [
        "from sklearn.preprocessing import LabelEncoder\n",
        "le = LabelEncoder()\n",
        "X[:, 2] = le.fit_transform(X[:, 2])"
      ],
      "execution_count": null,
      "outputs": []
    },
    {
      "cell_type": "code",
      "metadata": {
        "colab": {
          "base_uri": "https://localhost:8080/"
        },
        "id": "OsXpsOv1v5LR",
        "outputId": "4b2f774a-a3f7-4930-dcf1-c25b195a781a"
      },
      "source": [
        "print(X)"
      ],
      "execution_count": null,
      "outputs": [
        {
          "output_type": "stream",
          "text": [
            "[[619 'France' 0 ... 1 1 101348.88]\n",
            " [608 'Spain' 0 ... 0 1 112542.58]\n",
            " [502 'France' 0 ... 1 0 113931.57]\n",
            " ...\n",
            " [709 'France' 0 ... 0 1 42085.58]\n",
            " [772 'Germany' 1 ... 1 0 92888.52]\n",
            " [792 'France' 0 ... 1 0 38190.78]]\n"
          ],
          "name": "stdout"
        }
      ]
    },
    {
      "cell_type": "markdown",
      "metadata": {
        "id": "CUxGZezpbMcb"
      },
      "source": [
        "Coluna 'geography'"
      ]
    },
    {
      "cell_type": "code",
      "metadata": {
        "id": "4DvPF9WUwQlw"
      },
      "source": [
        "from sklearn.compose import ColumnTransformer\n",
        "from sklearn.preprocessing import OneHotEncoder\n",
        "ct = ColumnTransformer(transformers=[('encoder', OneHotEncoder(), [1])], remainder='passthrough')\n",
        "X = np.array(ct.fit_transform(X))"
      ],
      "execution_count": null,
      "outputs": []
    },
    {
      "cell_type": "code",
      "metadata": {
        "colab": {
          "base_uri": "https://localhost:8080/"
        },
        "id": "cnliYXOSwWwB",
        "outputId": "235ce759-5233-4315-e8e4-f9d1038ff4b2"
      },
      "source": [
        "print(X)"
      ],
      "execution_count": null,
      "outputs": [
        {
          "output_type": "stream",
          "text": [
            "[[1.0 0.0 0.0 ... 1 1 101348.88]\n",
            " [0.0 0.0 1.0 ... 0 1 112542.58]\n",
            " [1.0 0.0 0.0 ... 1 0 113931.57]\n",
            " ...\n",
            " [1.0 0.0 0.0 ... 0 1 42085.58]\n",
            " [0.0 1.0 0.0 ... 1 0 92888.52]\n",
            " [1.0 0.0 0.0 ... 1 0 38190.78]]\n"
          ],
          "name": "stdout"
        }
      ]
    },
    {
      "cell_type": "markdown",
      "metadata": {
        "id": "vHol938cW8zd"
      },
      "source": [
        "### Separando o dataset e o trainingset"
      ]
    },
    {
      "cell_type": "code",
      "metadata": {
        "id": "3shJnx43wtss"
      },
      "source": [
        "from sklearn.model_selection import train_test_split\n",
        "X_train, X_test, y_train, y_test = train_test_split(X, y, test_size = 0.2, random_state = 0)"
      ],
      "execution_count": null,
      "outputs": []
    },
    {
      "cell_type": "markdown",
      "metadata": {
        "id": "RE_FcHyfV3TQ"
      },
      "source": [
        "### Dimensionando os recursos"
      ]
    },
    {
      "cell_type": "code",
      "metadata": {
        "id": "lH_rGe8ww4JY"
      },
      "source": [
        "from sklearn.preprocessing import StandardScaler\n",
        "sc = StandardScaler()\n",
        "X_train = sc.fit_transform(X_train)\n",
        "X_test = sc.transform(X_test)"
      ],
      "execution_count": null,
      "outputs": []
    },
    {
      "cell_type": "markdown",
      "metadata": {
        "id": "-zfEzkRVXIwF"
      },
      "source": [
        "## Part 2 - Criando a  ANN (rede neural)"
      ]
    },
    {
      "cell_type": "markdown",
      "metadata": {
        "id": "KvdeScabXtlB"
      },
      "source": [
        "### Iniciando a ANN"
      ]
    },
    {
      "cell_type": "code",
      "metadata": {
        "id": "UT2Kp3mhxsk5"
      },
      "source": [
        "ann = tf.keras.models.Sequential()"
      ],
      "execution_count": null,
      "outputs": []
    },
    {
      "cell_type": "markdown",
      "metadata": {
        "id": "rP6urV6SX7kS"
      },
      "source": [
        "### Adicionando a camada de entrada e a primeira camada oculta"
      ]
    },
    {
      "cell_type": "code",
      "metadata": {
        "id": "622rjASIyVm5"
      },
      "source": [
        "ann.add(tf.keras.layers.Dense(units=6, activation='relu'))"
      ],
      "execution_count": null,
      "outputs": []
    },
    {
      "cell_type": "markdown",
      "metadata": {
        "id": "BELWAc_8YJze"
      },
      "source": [
        "### Adicionando a segunda camada oculta"
      ]
    },
    {
      "cell_type": "code",
      "metadata": {
        "id": "hFiXoJL2zlU4"
      },
      "source": [
        "ann.add(tf.keras.layers.Dense(units=6, activation='relu'))"
      ],
      "execution_count": null,
      "outputs": []
    },
    {
      "cell_type": "markdown",
      "metadata": {
        "id": "OyNEe6RXYcU4"
      },
      "source": [
        "### Camada de saída"
      ]
    },
    {
      "cell_type": "code",
      "metadata": {
        "id": "r-cufrQ0z4lw"
      },
      "source": [
        "ann.add(tf.keras.layers.Dense(units=1, activation='sigmoid'))"
      ],
      "execution_count": null,
      "outputs": []
    },
    {
      "cell_type": "markdown",
      "metadata": {
        "id": "JT4u2S1_Y4WG"
      },
      "source": [
        "## Part 3 - Treinando a ANN"
      ]
    },
    {
      "cell_type": "markdown",
      "metadata": {
        "id": "8GWlJChhY_ZI"
      },
      "source": [
        "### Compilando a ANN"
      ]
    },
    {
      "cell_type": "code",
      "metadata": {
        "id": "RH_hvZs31W2c"
      },
      "source": [
        "ann.compile(optimizer = 'adam', loss = 'binary_crossentropy', metrics = ['accuracy'])"
      ],
      "execution_count": null,
      "outputs": []
    },
    {
      "cell_type": "markdown",
      "metadata": {
        "id": "0QR_G5u7ZLSM"
      },
      "source": [
        "### Trainando a ANN no Training set"
      ]
    },
    {
      "cell_type": "code",
      "metadata": {
        "colab": {
          "base_uri": "https://localhost:8080/"
        },
        "id": "0stsLX8o2mTg",
        "outputId": "92b82f59-d2dc-4cf0-908c-e2e15c34aff8"
      },
      "source": [
        "ann.fit(X_train, y_train, batch_size = 32,epochs = 20)"
      ],
      "execution_count": null,
      "outputs": [
        {
          "output_type": "stream",
          "text": [
            "Epoch 1/20\n",
            "250/250 [==============================] - 0s 969us/step - loss: 0.6168 - accuracy: 0.6530\n",
            "Epoch 2/20\n",
            "250/250 [==============================] - 0s 887us/step - loss: 0.4722 - accuracy: 0.7961\n",
            "Epoch 3/20\n",
            "250/250 [==============================] - 0s 896us/step - loss: 0.4414 - accuracy: 0.7976\n",
            "Epoch 4/20\n",
            "250/250 [==============================] - 0s 1ms/step - loss: 0.4201 - accuracy: 0.8091\n",
            "Epoch 5/20\n",
            "250/250 [==============================] - 0s 882us/step - loss: 0.4006 - accuracy: 0.8232\n",
            "Epoch 6/20\n",
            "250/250 [==============================] - 0s 916us/step - loss: 0.3819 - accuracy: 0.8359\n",
            "Epoch 7/20\n",
            "250/250 [==============================] - 0s 914us/step - loss: 0.3682 - accuracy: 0.8456\n",
            "Epoch 8/20\n",
            "250/250 [==============================] - 0s 953us/step - loss: 0.3600 - accuracy: 0.8501\n",
            "Epoch 9/20\n",
            "250/250 [==============================] - 0s 927us/step - loss: 0.3550 - accuracy: 0.8539\n",
            "Epoch 10/20\n",
            "250/250 [==============================] - 0s 885us/step - loss: 0.3523 - accuracy: 0.8560\n",
            "Epoch 11/20\n",
            "250/250 [==============================] - 0s 869us/step - loss: 0.3503 - accuracy: 0.8554\n",
            "Epoch 12/20\n",
            "250/250 [==============================] - 0s 944us/step - loss: 0.3488 - accuracy: 0.8566\n",
            "Epoch 13/20\n",
            "250/250 [==============================] - 0s 881us/step - loss: 0.3477 - accuracy: 0.8568\n",
            "Epoch 14/20\n",
            "250/250 [==============================] - 0s 869us/step - loss: 0.3468 - accuracy: 0.8574\n",
            "Epoch 15/20\n",
            "250/250 [==============================] - 0s 884us/step - loss: 0.3459 - accuracy: 0.8577\n",
            "Epoch 16/20\n",
            "250/250 [==============================] - 0s 921us/step - loss: 0.3451 - accuracy: 0.8584\n",
            "Epoch 17/20\n",
            "250/250 [==============================] - 0s 898us/step - loss: 0.3443 - accuracy: 0.8574\n",
            "Epoch 18/20\n",
            "250/250 [==============================] - 0s 909us/step - loss: 0.3438 - accuracy: 0.8575\n",
            "Epoch 19/20\n",
            "250/250 [==============================] - 0s 876us/step - loss: 0.3434 - accuracy: 0.8587\n",
            "Epoch 20/20\n",
            "250/250 [==============================] - 0s 1ms/step - loss: 0.3432 - accuracy: 0.8594\n"
          ],
          "name": "stdout"
        },
        {
          "output_type": "execute_result",
          "data": {
            "text/plain": [
              "<tensorflow.python.keras.callbacks.History at 0x7f6f7b9ce978>"
            ]
          },
          "metadata": {
            "tags": []
          },
          "execution_count": 55
        }
      ]
    },
    {
      "cell_type": "markdown",
      "metadata": {
        "id": "tJj5k2MxZga3"
      },
      "source": [
        "## Part 4 - Previsões e análise do modelo"
      ]
    },
    {
      "cell_type": "markdown",
      "metadata": {
        "id": "84QFoqGYeXHL"
      },
      "source": [
        "### Prever o resultado de uma única observação"
      ]
    },
    {
      "cell_type": "markdown",
      "metadata": {
        "id": "CGRo3eacgDdC"
      },
      "source": [
        "**Pedido do banco**\n",
        "\n",
        "Dados de certo cliente são enviados para nós e como cientista de dados do banco devemos dizer se ele vai ou não deixar a agência\n",
        "\n",
        "País: França\n",
        "\n",
        "Pontuação de crédito: 600\n",
        "\n",
        "Gênero: Masculino\n",
        "\n",
        "Idade: 40 anos\n",
        "\n",
        "Tenure: 3 years\n",
        "\n",
        "Saldo: \\$ 60000\n",
        "\n",
        "Nuúmero de Produtos: 2\n",
        "\n",
        "Possui cartão de crédito? Sim\n",
        "\n",
        "É um membro ativo? Sim\n",
        "\n",
        "Salário estimado: \\$ 50000\n"
      ]
    },
    {
      "cell_type": "markdown",
      "metadata": {
        "id": "ZhU1LTgPg-kH"
      },
      "source": [
        "**Solução**"
      ]
    },
    {
      "cell_type": "code",
      "metadata": {
        "colab": {
          "base_uri": "https://localhost:8080/"
        },
        "id": "3ErFXfio4PJM",
        "outputId": "c9136c31-a86b-4bc2-a99b-8ec20fd9888a"
      },
      "source": [
        "#colocando todas as informaçoes do cliente que nos foram passadas:\r\n",
        "print(ann.predict(sc.transform([[1, 0, 0, 600, 1, 40, 3, 60000, 2, 1, 1, 50000]])))"
      ],
      "execution_count": null,
      "outputs": [
        {
          "output_type": "stream",
          "text": [
            "[[0.04419965]]\n"
          ],
          "name": "stdout"
        }
      ]
    },
    {
      "cell_type": "markdown",
      "metadata": {
        "id": "wGjx94g2n7OV"
      },
      "source": [
        "Nossa rede neural previu que existe 4,4% de chance do cliente deixar o banco."
      ]
    },
    {
      "cell_type": "markdown",
      "metadata": {
        "id": "u7yx47jPZt11"
      },
      "source": [
        "### Prevendo resultados no testset"
      ]
    },
    {
      "cell_type": "code",
      "metadata": {
        "colab": {
          "base_uri": "https://localhost:8080/"
        },
        "id": "iy-DaBET6bJl",
        "outputId": "023da086-a6f3-4b91-d8f9-ff71699c7349"
      },
      "source": [
        "y_pred = ann.predict(X_test)\n",
        "y_pred = (y_pred > 0.5)\n",
        "print(np.concatenate((y_pred.reshape(len(y_pred),1), y_test.reshape(len(y_test),1)),1))"
      ],
      "execution_count": null,
      "outputs": [
        {
          "output_type": "stream",
          "text": [
            "[[0 0]\n",
            " [0 1]\n",
            " [0 0]\n",
            " ...\n",
            " [0 0]\n",
            " [0 0]\n",
            " [0 0]]\n"
          ],
          "name": "stdout"
        }
      ]
    },
    {
      "cell_type": "markdown",
      "metadata": {
        "id": "o0oyfLWoaEGw"
      },
      "source": [
        "### Criando a Confusion Matrix"
      ]
    },
    {
      "cell_type": "code",
      "metadata": {
        "colab": {
          "base_uri": "https://localhost:8080/"
        },
        "id": "pxEaIs3p6bni",
        "outputId": "31d4dfbe-6de5-42a8-b0f1-3bec67a0e557"
      },
      "source": [
        "from sklearn.metrics import confusion_matrix, accuracy_score\n",
        "cm = confusion_matrix(y_test, y_pred)\n",
        "print(cm)\n",
        "accuracy_score(y_test, y_pred)"
      ],
      "execution_count": null,
      "outputs": [
        {
          "output_type": "stream",
          "text": [
            "[[1513   82]\n",
            " [ 192  213]]\n"
          ],
          "name": "stdout"
        },
        {
          "output_type": "execute_result",
          "data": {
            "text/plain": [
              "0.863"
            ]
          },
          "metadata": {
            "tags": []
          },
          "execution_count": 61
        }
      ]
    }
  ]
}